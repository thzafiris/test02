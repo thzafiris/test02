{
  "nbformat": 4,
  "nbformat_minor": 0,
  "metadata": {
    "colab": {
      "provenance": [],
      "authorship_tag": "ABX9TyMgkFabA2TijBMId1o66BUS",
      "include_colab_link": true
    },
    "kernelspec": {
      "name": "python3",
      "display_name": "Python 3"
    },
    "language_info": {
      "name": "python"
    }
  },
  "cells": [
    {
      "cell_type": "markdown",
      "metadata": {
        "id": "view-in-github",
        "colab_type": "text"
      },
      "source": [
        "<a href=\"https://colab.research.google.com/github/thzafiris/test02/blob/main/test01.ipynb\" target=\"_parent\"><img src=\"https://colab.research.google.com/assets/colab-badge.svg\" alt=\"Open In Colab\"/></a>"
      ]
    },
    {
      "cell_type": "markdown",
      "source": [
        "#Heading 1"
      ],
      "metadata": {
        "id": "fMm5M5AfNY-I"
      }
    },
    {
      "cell_type": "code",
      "source": [
        "import pandas as pd\n",
        "import numpy as np"
      ],
      "metadata": {
        "id": "TCVsIpl3NQ_F"
      },
      "execution_count": 1,
      "outputs": []
    },
    {
      "cell_type": "code",
      "source": [
        "from google.colab import drive\n",
        "drive.mount('/content/gdrive',force_remount=True)"
      ],
      "metadata": {
        "colab": {
          "base_uri": "https://localhost:8080/"
        },
        "id": "g_tQ4CN_NcQo",
        "outputId": "c2a6952a-e59c-475b-e8f2-ce124efaa2c6"
      },
      "execution_count": 2,
      "outputs": [
        {
          "output_type": "stream",
          "name": "stdout",
          "text": [
            "Mounted at /content/gdrive\n"
          ]
        }
      ]
    },
    {
      "cell_type": "code",
      "source": [
        "import pandas as pd\n",
        "data=pd.read_csv(\"API_report-2022-10-13.csv\", sep=';')\n",
        "data.columns =['date', 'time', 'username', 'msg', 'OMT']\n",
        "mar = pd.DataFrame([['username', 'entry', 'modif', 'modifall', 'OMTs'],['cxtest01', 0, 10, 0, 10]])\n",
        "#set column names equal to values in row index position 0\n",
        "mar.columns = mar.iloc[0]\n",
        "\n",
        "#remove first row from DataFrame\n",
        "mar = mar[1:]\n",
        "\n",
        "for i in data['username'] : \n",
        "  for j in data['msg'] :  \n",
        "    if j =='OrdrEntry' :\n",
        "      new_row = {'username': i , 'entry': 'OMT' , 'modif':0, 'modifall':0, 'OMTs':0}\n",
        "    elif j =='OrdrModify' :\n",
        "      new_row = {'username': i , 'entry':0 , 'modif':'OMT', 'modifall':0, 'OMTs':0}\n",
        "    elif j =='ModifyAllOrdrs' :\n",
        "      new_row = {'username': i , 'entry':0 , 'modif':0, 'modifall':'OMT', 'OMTs':0}\n",
        "  mar = mar.append(new_row, ignore_index=True)\n",
        "#data.head()\n",
        "mar = mar.drop_duplicates()\n",
        "mar"
      ],
      "metadata": {
        "colab": {
          "base_uri": "https://localhost:8080/",
          "height": 424
        },
        "id": "tSD__QCSYRXJ",
        "outputId": "71a07fde-9d18-4466-bb87-eb9cc7f460f1"
      },
      "execution_count": 55,
      "outputs": [
        {
          "output_type": "execute_result",
          "data": {
            "text/plain": [
              "      username entry modif modifall OMTs\n",
              "0     cxtest01     0    10        0   10\n",
              "1     CXABMP01     0   OMT        0    0\n",
              "2     CXAESE02     0   OMT        0    0\n",
              "4     CXANEE01     0   OMT        0    0\n",
              "6     CXBAWA01     0   OMT        0    0\n",
              "...        ...   ...   ...      ...  ...\n",
              "4250  CXWASP26     0   OMT        0    0\n",
              "4363  CXZHLZ05     0   OMT        0    0\n",
              "4486  CXZHLZ03     0   OMT        0    0\n",
              "4570  CXVITL15     0   OMT        0    0\n",
              "4573  CXVITL22     0   OMT        0    0\n",
              "\n",
              "[242 rows x 5 columns]"
            ],
            "text/html": [
              "\n",
              "  <div id=\"df-4c9ced95-3782-4e36-8628-ab10d9e71dd6\">\n",
              "    <div class=\"colab-df-container\">\n",
              "      <div>\n",
              "<style scoped>\n",
              "    .dataframe tbody tr th:only-of-type {\n",
              "        vertical-align: middle;\n",
              "    }\n",
              "\n",
              "    .dataframe tbody tr th {\n",
              "        vertical-align: top;\n",
              "    }\n",
              "\n",
              "    .dataframe thead th {\n",
              "        text-align: right;\n",
              "    }\n",
              "</style>\n",
              "<table border=\"1\" class=\"dataframe\">\n",
              "  <thead>\n",
              "    <tr style=\"text-align: right;\">\n",
              "      <th></th>\n",
              "      <th>username</th>\n",
              "      <th>entry</th>\n",
              "      <th>modif</th>\n",
              "      <th>modifall</th>\n",
              "      <th>OMTs</th>\n",
              "    </tr>\n",
              "  </thead>\n",
              "  <tbody>\n",
              "    <tr>\n",
              "      <th>0</th>\n",
              "      <td>cxtest01</td>\n",
              "      <td>0</td>\n",
              "      <td>10</td>\n",
              "      <td>0</td>\n",
              "      <td>10</td>\n",
              "    </tr>\n",
              "    <tr>\n",
              "      <th>1</th>\n",
              "      <td>CXABMP01</td>\n",
              "      <td>0</td>\n",
              "      <td>OMT</td>\n",
              "      <td>0</td>\n",
              "      <td>0</td>\n",
              "    </tr>\n",
              "    <tr>\n",
              "      <th>2</th>\n",
              "      <td>CXAESE02</td>\n",
              "      <td>0</td>\n",
              "      <td>OMT</td>\n",
              "      <td>0</td>\n",
              "      <td>0</td>\n",
              "    </tr>\n",
              "    <tr>\n",
              "      <th>4</th>\n",
              "      <td>CXANEE01</td>\n",
              "      <td>0</td>\n",
              "      <td>OMT</td>\n",
              "      <td>0</td>\n",
              "      <td>0</td>\n",
              "    </tr>\n",
              "    <tr>\n",
              "      <th>6</th>\n",
              "      <td>CXBAWA01</td>\n",
              "      <td>0</td>\n",
              "      <td>OMT</td>\n",
              "      <td>0</td>\n",
              "      <td>0</td>\n",
              "    </tr>\n",
              "    <tr>\n",
              "      <th>...</th>\n",
              "      <td>...</td>\n",
              "      <td>...</td>\n",
              "      <td>...</td>\n",
              "      <td>...</td>\n",
              "      <td>...</td>\n",
              "    </tr>\n",
              "    <tr>\n",
              "      <th>4250</th>\n",
              "      <td>CXWASP26</td>\n",
              "      <td>0</td>\n",
              "      <td>OMT</td>\n",
              "      <td>0</td>\n",
              "      <td>0</td>\n",
              "    </tr>\n",
              "    <tr>\n",
              "      <th>4363</th>\n",
              "      <td>CXZHLZ05</td>\n",
              "      <td>0</td>\n",
              "      <td>OMT</td>\n",
              "      <td>0</td>\n",
              "      <td>0</td>\n",
              "    </tr>\n",
              "    <tr>\n",
              "      <th>4486</th>\n",
              "      <td>CXZHLZ03</td>\n",
              "      <td>0</td>\n",
              "      <td>OMT</td>\n",
              "      <td>0</td>\n",
              "      <td>0</td>\n",
              "    </tr>\n",
              "    <tr>\n",
              "      <th>4570</th>\n",
              "      <td>CXVITL15</td>\n",
              "      <td>0</td>\n",
              "      <td>OMT</td>\n",
              "      <td>0</td>\n",
              "      <td>0</td>\n",
              "    </tr>\n",
              "    <tr>\n",
              "      <th>4573</th>\n",
              "      <td>CXVITL22</td>\n",
              "      <td>0</td>\n",
              "      <td>OMT</td>\n",
              "      <td>0</td>\n",
              "      <td>0</td>\n",
              "    </tr>\n",
              "  </tbody>\n",
              "</table>\n",
              "<p>242 rows × 5 columns</p>\n",
              "</div>\n",
              "      <button class=\"colab-df-convert\" onclick=\"convertToInteractive('df-4c9ced95-3782-4e36-8628-ab10d9e71dd6')\"\n",
              "              title=\"Convert this dataframe to an interactive table.\"\n",
              "              style=\"display:none;\">\n",
              "        \n",
              "  <svg xmlns=\"http://www.w3.org/2000/svg\" height=\"24px\"viewBox=\"0 0 24 24\"\n",
              "       width=\"24px\">\n",
              "    <path d=\"M0 0h24v24H0V0z\" fill=\"none\"/>\n",
              "    <path d=\"M18.56 5.44l.94 2.06.94-2.06 2.06-.94-2.06-.94-.94-2.06-.94 2.06-2.06.94zm-11 1L8.5 8.5l.94-2.06 2.06-.94-2.06-.94L8.5 2.5l-.94 2.06-2.06.94zm10 10l.94 2.06.94-2.06 2.06-.94-2.06-.94-.94-2.06-.94 2.06-2.06.94z\"/><path d=\"M17.41 7.96l-1.37-1.37c-.4-.4-.92-.59-1.43-.59-.52 0-1.04.2-1.43.59L10.3 9.45l-7.72 7.72c-.78.78-.78 2.05 0 2.83L4 21.41c.39.39.9.59 1.41.59.51 0 1.02-.2 1.41-.59l7.78-7.78 2.81-2.81c.8-.78.8-2.07 0-2.86zM5.41 20L4 18.59l7.72-7.72 1.47 1.35L5.41 20z\"/>\n",
              "  </svg>\n",
              "      </button>\n",
              "      \n",
              "  <style>\n",
              "    .colab-df-container {\n",
              "      display:flex;\n",
              "      flex-wrap:wrap;\n",
              "      gap: 12px;\n",
              "    }\n",
              "\n",
              "    .colab-df-convert {\n",
              "      background-color: #E8F0FE;\n",
              "      border: none;\n",
              "      border-radius: 50%;\n",
              "      cursor: pointer;\n",
              "      display: none;\n",
              "      fill: #1967D2;\n",
              "      height: 32px;\n",
              "      padding: 0 0 0 0;\n",
              "      width: 32px;\n",
              "    }\n",
              "\n",
              "    .colab-df-convert:hover {\n",
              "      background-color: #E2EBFA;\n",
              "      box-shadow: 0px 1px 2px rgba(60, 64, 67, 0.3), 0px 1px 3px 1px rgba(60, 64, 67, 0.15);\n",
              "      fill: #174EA6;\n",
              "    }\n",
              "\n",
              "    [theme=dark] .colab-df-convert {\n",
              "      background-color: #3B4455;\n",
              "      fill: #D2E3FC;\n",
              "    }\n",
              "\n",
              "    [theme=dark] .colab-df-convert:hover {\n",
              "      background-color: #434B5C;\n",
              "      box-shadow: 0px 1px 3px 1px rgba(0, 0, 0, 0.15);\n",
              "      filter: drop-shadow(0px 1px 2px rgba(0, 0, 0, 0.3));\n",
              "      fill: #FFFFFF;\n",
              "    }\n",
              "  </style>\n",
              "\n",
              "      <script>\n",
              "        const buttonEl =\n",
              "          document.querySelector('#df-4c9ced95-3782-4e36-8628-ab10d9e71dd6 button.colab-df-convert');\n",
              "        buttonEl.style.display =\n",
              "          google.colab.kernel.accessAllowed ? 'block' : 'none';\n",
              "\n",
              "        async function convertToInteractive(key) {\n",
              "          const element = document.querySelector('#df-4c9ced95-3782-4e36-8628-ab10d9e71dd6');\n",
              "          const dataTable =\n",
              "            await google.colab.kernel.invokeFunction('convertToInteractive',\n",
              "                                                     [key], {});\n",
              "          if (!dataTable) return;\n",
              "\n",
              "          const docLinkHtml = 'Like what you see? Visit the ' +\n",
              "            '<a target=\"_blank\" href=https://colab.research.google.com/notebooks/data_table.ipynb>data table notebook</a>'\n",
              "            + ' to learn more about interactive tables.';\n",
              "          element.innerHTML = '';\n",
              "          dataTable['output_type'] = 'display_data';\n",
              "          await google.colab.output.renderOutput(dataTable, element);\n",
              "          const docLink = document.createElement('div');\n",
              "          docLink.innerHTML = docLinkHtml;\n",
              "          element.appendChild(docLink);\n",
              "        }\n",
              "      </script>\n",
              "    </div>\n",
              "  </div>\n",
              "  "
            ]
          },
          "metadata": {},
          "execution_count": 55
        }
      ]
    },
    {
      "cell_type": "code",
      "source": [
        "! echo \"ff\"> data.txt \n"
      ],
      "metadata": {
        "id": "uaClzDGrrVXh"
      },
      "execution_count": 5,
      "outputs": []
    },
    {
      "cell_type": "markdown",
      "source": [
        "Creating a file"
      ],
      "metadata": {
        "id": "QzubcxLRuthU"
      }
    },
    {
      "cell_type": "code",
      "source": [
        "data2= open(\"data2.txt\",\"w\" )\n",
        "data2.write(\"text in body\")\n",
        "data2.close()"
      ],
      "metadata": {
        "id": "Ppe2uZ8wuzKU"
      },
      "execution_count": 7,
      "outputs": []
    },
    {
      "cell_type": "code",
      "source": [
        "ls -1"
      ],
      "metadata": {
        "colab": {
          "base_uri": "https://localhost:8080/"
        },
        "id": "JpDf2t2jr7U8",
        "outputId": "cafede65-fced-4ef9-ac74-c7d1e7c74ab6"
      },
      "execution_count": 9,
      "outputs": [
        {
          "output_type": "stream",
          "name": "stdout",
          "text": [
            "data2.txt\n",
            "data.txt\n",
            "\u001b[0m\u001b[01;34msample_data\u001b[0m/\n"
          ]
        }
      ]
    },
    {
      "cell_type": "code",
      "source": [
        "cat data.txt"
      ],
      "metadata": {
        "colab": {
          "base_uri": "https://localhost:8080/"
        },
        "id": "7i-oMUu-0TN5",
        "outputId": "65fae4e7-15e4-49d7-8ce0-812ab5104a4d"
      },
      "execution_count": 10,
      "outputs": [
        {
          "output_type": "stream",
          "name": "stdout",
          "text": [
            "ff\n"
          ]
        }
      ]
    },
    {
      "cell_type": "code",
      "source": [
        "df = pd.read_fwf('API_report-2022-10-13test')\n",
        "print(df)"
      ],
      "metadata": {
        "colab": {
          "base_uri": "https://localhost:8080/"
        },
        "id": "52HP_z4IZFNz",
        "outputId": "26d2d198-2faf-437b-aa23-c8fb847b2183"
      },
      "execution_count": 13,
      "outputs": [
        {
          "output_type": "stream",
          "name": "stdout",
          "text": [
            "    <?xml version=\"1.0\" encoding=\"UTF-8\" standalone=\"yes\"?> Unnamed: 1  \\\n",
            "0    <!--Deutsche Boerse AG - All rights reserved. ...              or   \n",
            "1      <tc540 xmlns=\"http://deutsche-boerse.de/m7-re\">             NaN   \n",
            "2                                             <rptHdr>             NaN   \n",
            "3                              <exchNam>ELTS</exchNam>             NaN   \n",
            "4                                 <envText>D</envText>             NaN   \n",
            "..                                                 ...             ...   \n",
            "149                     <ordrValCode>GFS</ordrValCode>             NaN   \n",
            "150           <applicationId>COTRPUV_0</applicationId>             NaN   \n",
            "151  <text>n5s3iGFs5xu|SimpleOrderEpex|strategy_slo...             NaN   \n",
            "152                                   <aot>false</aot>             NaN   \n",
            "153                                        </tc540Rec>             NaN   \n",
            "\n",
            "    Unnamed: 2 Unnamed: 3 Unnamed: 4 Unnamed: 5    Unnamed: 6    Unnamed: 7  \\\n",
            "0         part         of         it         or  unauthorized  distribution   \n",
            "1          NaN        NaN        NaN        NaN           NaN           NaN   \n",
            "2          NaN        NaN        NaN        NaN           NaN           NaN   \n",
            "3          NaN        NaN        NaN        NaN           NaN           NaN   \n",
            "4          NaN        NaN        NaN        NaN           NaN           NaN   \n",
            "..         ...        ...        ...        ...           ...           ...   \n",
            "149        NaN        NaN        NaN        NaN           NaN           NaN   \n",
            "150        NaN        NaN        NaN        NaN           NaN           NaN   \n",
            "151        NaN        NaN        NaN        NaN           NaN           NaN   \n",
            "152        NaN        NaN        NaN        NaN           NaN           NaN   \n",
            "153        NaN        NaN        NaN        NaN           NaN           NaN   \n",
            "\n",
            "    Unnamed: 8 Unnamed: 9  ...   Unnamed: 27 Unnamed: 28 Unnamed: 29  \\\n",
            "0           of        the  ...  intellectual    property          of   \n",
            "1          NaN        NaN  ...           NaN         NaN         NaN   \n",
            "2          NaN        NaN  ...           NaN         NaN         NaN   \n",
            "3          NaN        NaN  ...           NaN         NaN         NaN   \n",
            "4          NaN        NaN  ...           NaN         NaN         NaN   \n",
            "..         ...        ...  ...           ...         ...         ...   \n",
            "149        NaN        NaN  ...           NaN         NaN         NaN   \n",
            "150        NaN        NaN  ...           NaN         NaN         NaN   \n",
            "151        NaN        NaN  ...           NaN         NaN         NaN   \n",
            "152        NaN        NaN  ...           NaN         NaN         NaN   \n",
            "153        NaN        NaN  ...           NaN         NaN         NaN   \n",
            "\n",
            "    Unnamed: 30 Unnamed: 31 Unnamed: 32 Unnamed: 33 Unnamed: 34 Unnamed: 35  \\\n",
            "0            DB         and         all      rights     therein         are   \n",
            "1           NaN         NaN         NaN         NaN         NaN         NaN   \n",
            "2           NaN         NaN         NaN         NaN         NaN         NaN   \n",
            "3           NaN         NaN         NaN         NaN         NaN         NaN   \n",
            "4           NaN         NaN         NaN         NaN         NaN         NaN   \n",
            "..          ...         ...         ...         ...         ...         ...   \n",
            "149         NaN         NaN         NaN         NaN         NaN         NaN   \n",
            "150         NaN         NaN         NaN         NaN         NaN         NaN   \n",
            "151         NaN         NaN         NaN         NaN         NaN         NaN   \n",
            "152         NaN         NaN         NaN         NaN         NaN         NaN   \n",
            "153         NaN         NaN         NaN         NaN         NaN         NaN   \n",
            "\n",
            "      Unnamed: 36  \n",
            "0    reserved.-->  \n",
            "1             NaN  \n",
            "2             NaN  \n",
            "3             NaN  \n",
            "4             NaN  \n",
            "..            ...  \n",
            "149           NaN  \n",
            "150           NaN  \n",
            "151           NaN  \n",
            "152           NaN  \n",
            "153           NaN  \n",
            "\n",
            "[154 rows x 37 columns]\n"
          ]
        }
      ]
    },
    {
      "cell_type": "markdown",
      "source": [
        "# New Section"
      ],
      "metadata": {
        "id": "9L5AEyYaeO-Y"
      }
    }
  ]
}